{
  "cells": [
    {
      "cell_type": "markdown",
      "metadata": {
        "id": "view-in-github",
        "colab_type": "text"
      },
      "source": [
        "<a href=\"https://colab.research.google.com/github/hosseinhimself/404LLMs/blob/main/MBTI_test.ipynb\" target=\"_parent\"><img src=\"https://colab.research.google.com/assets/colab-badge.svg\" alt=\"Open In Colab\"/></a>"
      ]
    },
    {
      "cell_type": "code",
      "execution_count": null,
      "metadata": {
        "id": "HfEmO4AnQ838",
        "colab": {
          "base_uri": "https://localhost:8080/"
        },
        "outputId": "973ca540-35e4-47da-a1b1-4bc58be8dc25"
      },
      "outputs": [
        {
          "output_type": "stream",
          "name": "stdout",
          "text": [
            "\u001b[2K     \u001b[90m━━━━━━━━━━━━━━━━━━━━━━━━━━━━━━━━━━━━━━━━\u001b[0m \u001b[32m973.5/973.5 kB\u001b[0m \u001b[31m6.4 MB/s\u001b[0m eta \u001b[36m0:00:00\u001b[0m\n",
            "\u001b[2K     \u001b[90m━━━━━━━━━━━━━━━━━━━━━━━━━━━━━━━━━━━━━━━━\u001b[0m \u001b[32m310.2/310.2 kB\u001b[0m \u001b[31m16.6 MB/s\u001b[0m eta \u001b[36m0:00:00\u001b[0m\n",
            "\u001b[2K     \u001b[90m━━━━━━━━━━━━━━━━━━━━━━━━━━━━━━━━━━━━━━━━\u001b[0m \u001b[32m124.4/124.4 kB\u001b[0m \u001b[31m6.2 MB/s\u001b[0m eta \u001b[36m0:00:00\u001b[0m\n",
            "\u001b[2K     \u001b[90m━━━━━━━━━━━━━━━━━━━━━━━━━━━━━━━━━━━━━━━━\u001b[0m \u001b[32m53.0/53.0 kB\u001b[0m \u001b[31m3.0 MB/s\u001b[0m eta \u001b[36m0:00:00\u001b[0m\n",
            "\u001b[2K     \u001b[90m━━━━━━━━━━━━━━━━━━━━━━━━━━━━━━━━━━━━━━━━\u001b[0m \u001b[32m142.5/142.5 kB\u001b[0m \u001b[31m3.3 MB/s\u001b[0m eta \u001b[36m0:00:00\u001b[0m\n",
            "\u001b[2K     \u001b[90m━━━━━━━━━━━━━━━━━━━━━━━━━━━━━━━━━━━━━━━━\u001b[0m \u001b[32m2.1/2.1 MB\u001b[0m \u001b[31m7.2 MB/s\u001b[0m eta \u001b[36m0:00:00\u001b[0m\n",
            "\u001b[2K     \u001b[90m━━━━━━━━━━━━━━━━━━━━━━━━━━━━━━━━━━━━━━━━\u001b[0m \u001b[32m49.3/49.3 kB\u001b[0m \u001b[31m5.4 MB/s\u001b[0m eta \u001b[36m0:00:00\u001b[0m\n",
            "\u001b[?25h"
          ]
        }
      ],
      "source": [
        "! pip install -q -U langchain\n",
        "! pip install -q langchain-google-genai\n",
        "! pip install -q langchain-community\n",
        "\n",
        "from langchain import PromptTemplate\n",
        "from langchain.schema.prompt_template import format_document\n",
        "from langchain.chains import LLMChain\n",
        "from langchain_google_genai import ChatGoogleGenerativeAI\n",
        "\n",
        "import ast\n",
        "import os\n",
        "import getpass\n",
        "import matplotlib.pyplot as plt\n"
      ]
    },
    {
      "cell_type": "code",
      "execution_count": null,
      "metadata": {
        "colab": {
          "base_uri": "https://localhost:8080/"
        },
        "id": "MTQr3USVRJHp",
        "outputId": "b09d78d3-6494-43b6-ac5f-7eb17b46ef3a"
      },
      "outputs": [
        {
          "name": "stdout",
          "output_type": "stream",
          "text": [
            "Gemini API Key:··········\n"
          ]
        }
      ],
      "source": [
        "api_key = getpass.getpass('Gemini API Key:')\n",
        "os.environ['GOOGLE_API_KEY'] = api_key"
      ]
    },
    {
      "cell_type": "code",
      "execution_count": null,
      "metadata": {
        "id": "cZVhstjdRRSP"
      },
      "outputs": [],
      "source": [
        "initial_task_prompt = '''\n",
        "  As a psychologist, your goal is to help determine the MBTI (Myers-Briggs Type Indicator) of the individual by asking a series of questions.\n",
        "  You need to ask {number_of_questions} questions, with answers ranging from 1 to 5, where:\n",
        "    1 = Strongly Disagree\n",
        "    2 = Disagree\n",
        "    3 = Neutral\n",
        "    4 = Agree\n",
        "    5 = Strongly Agree\n",
        "  These questions should delve into emotions, personality traits, and hypothetical situations. Provide the questions in the following format:\n",
        "  Q1: <<question text>>\n",
        "  Q2: <<question text>>\n",
        "  ...\n",
        "  Q20: <<question text>>\n",
        "  Please only include the questions without any additional information.\n",
        "  '''\n",
        "\n",
        "welcome = '''\n",
        "  **Welcome!**\n",
        "  To determine your MBTI, please answer the following questions using a scale from 1 to 5, where:\n",
        "  1 = Strongly Disagree\n",
        "  2 = Disagree\n",
        "  3 = Neutral\n",
        "  4 = Agree\n",
        "  5 = Strongly Agree\n",
        "  '''\n",
        "\n",
        "results_prompt = '''\n",
        "  You are a psychologist tasked with determining the user's MBTI (Myers-Briggs Type Indicator) based on the questions asked.\n",
        "  These questions explore preferences in how individuals perceive the world and make decisions. Answers range from 1 to 5, as follows:\n",
        "  1 = Strongly Disagree\n",
        "  2 = Disagree\n",
        "  3 = Neutral\n",
        "  4 = Agree\n",
        "  5 = Strongly Agree\n",
        "  Please disregard any unanswered questions or responses unrelated to the topic.\n",
        "  The questions and their answers should be presented in the following Python dictionary format:\n",
        "  '<<question>>':'<<answer>>', ...\n",
        "  Provide the answer in the format below. MBTI types are represented by their respective letters (e.g., \"I\" for Introversion, \"E\" for Extroversion), and numbers should be floats without any \"%\" symbols. Do not include any additional information.\n",
        "  this is an example of the answer I am looking for, answer in this specific format\n",
        "\n",
        "  'I': 0.25, 'E': 0.75, 'S': 0.6, 'N': 0.4, 'T': 0.8, 'F': 0.2, 'J': 0.3, 'P': 0.7\n",
        "\n",
        "  Questions and answers:\n",
        "\n",
        "  {answers}\n",
        "  '''"
      ]
    },
    {
      "cell_type": "code",
      "execution_count": null,
      "metadata": {
        "id": "qJ1b6wiIRVhO",
        "colab": {
          "base_uri": "https://localhost:8080/",
          "height": 1000
        },
        "outputId": "d9791fb1-275e-494b-ded1-25d2d7cf34c4"
      },
      "outputs": [
        {
          "output_type": "stream",
          "name": "stdout",
          "text": [
            "\n",
            "  **Welcome!**\n",
            "  To determine your MBTI, please answer the following questions using a scale from 1 to 5, where:\n",
            "  1 = Strongly Disagree\n",
            "  2 = Disagree\n",
            "  3 = Neutral\n",
            "  4 = Agree\n",
            "  5 = Strongly Agree\n",
            "  \n"
          ]
        },
        {
          "output_type": "stream",
          "name": "stderr",
          "text": [
            "/usr/local/lib/python3.10/dist-packages/langchain_core/_api/deprecation.py:119: LangChainDeprecationWarning: The class `LLMChain` was deprecated in LangChain 0.1.17 and will be removed in 0.3.0. Use RunnableSequence, e.g., `prompt | llm` instead.\n",
            "  warn_deprecated(\n",
            "/usr/local/lib/python3.10/dist-packages/langchain_core/_api/deprecation.py:119: LangChainDeprecationWarning: The method `Chain.run` was deprecated in langchain 0.1.0 and will be removed in 0.3.0. Use invoke instead.\n",
            "  warn_deprecated(\n"
          ]
        },
        {
          "output_type": "stream",
          "name": "stdout",
          "text": [
            "Q1: I often feel overwhelmed by my emotions. 5\n",
            "Q2: I prefer to work independently rather than in groups. 4\n",
            "Q3: I am highly imaginative and often lost in my thoughts. 1\n",
            "Q4: I am a very organized and detail-oriented person. 2\n",
            "Q5: I find it easy to express my feelings to others. 3\n",
            "Q6: I am more interested in facts and data than in abstract concepts. 4\n",
            "Q7: I am usually the one who initiates conversations and social interactions. 1\n",
            "Q8: I prefer to make decisions based on logic and reason. 2\n",
            "Q9: I am often described as a \"free spirit\" who marches to the beat of my own drum. 3\n",
            "Q10: I am very sensitive to the needs and emotions of others. 2\n",
            "{'I': 0.5, 'E': 0.5, 'S': 0.6, 'N': 0.4, 'T': 0.6, 'F': 0.4, 'J': 0.4, 'P': 0.6}\n"
          ]
        },
        {
          "output_type": "display_data",
          "data": {
            "text/plain": [
              "<Figure size 1000x600 with 1 Axes>"
            ],
            "image/png": "[encoded data removed]"
          },
          "metadata": {}
        }
      ],
      "source": [
        "llm_model = ChatGoogleGenerativeAI(model=\"gemini-pro\",\n",
        "                 temperature=0.7, top_p=0.85)\n",
        "\n",
        "def generate_questions(number_of_questions):\n",
        "  prompt = PromptTemplate(input_variables=[\"number_of_questions\"], template = initial_task_prompt)\n",
        "  # define chain\n",
        "  chain = LLMChain(\n",
        "      llm=llm_model,\n",
        "      prompt=prompt,\n",
        "  )\n",
        "  questions = chain.run({'number_of_questions':number_of_questions})\n",
        "  return questions.split('\\n')\n",
        "\n",
        "def show_results(answers):\n",
        "  res_prompt = PromptTemplate(input_variables=['answers'], template = results_prompt)\n",
        "  res_chain = LLMChain(\n",
        "    llm=llm_model,\n",
        "    prompt=res_prompt,\n",
        "  )\n",
        "  return res_chain.run({'answers':answers})\n",
        "\n",
        "def plot_mbti_results(results):\n",
        "    labels = ['I/E', 'S/N', 'T/F', 'J/P']\n",
        "    I_percent = results['I']\n",
        "    E_percent = results['E']\n",
        "    S_percent = results['S']\n",
        "    N_percent = results['N']\n",
        "    T_percent = results['T']\n",
        "    F_percent = results['F']\n",
        "    J_percent = results['J']\n",
        "    P_percent = results['P']\n",
        "\n",
        "    plt.figure(figsize=(10, 6))\n",
        "    plt.barh(labels, [I_percent, S_percent, T_percent, J_percent], color='#5A1387', label='Introversion / Sensing / Thinking / Judging')\n",
        "    plt.barh(labels, [E_percent, N_percent, F_percent, P_percent], left=[I_percent, S_percent, T_percent, J_percent], color='#76F3FB', label='Extraversion / Intuition / Feeling / Perceiving')\n",
        "    plt.xlabel('Percentage')\n",
        "    plt.title('MBTI Results')\n",
        "    plt.legend()\n",
        "    plt.show()\n",
        "\n",
        "\n",
        "def main_test():\n",
        "  print(welcome)\n",
        "  questions = generate_questions(10)\n",
        "  answers = {}\n",
        "  for q in questions:\n",
        "    answers[q] = input(f'{q} ')\n",
        "\n",
        "  result = show_results(answers)\n",
        "\n",
        "  answers_dict = ast.literal_eval(f\"{{{result}}}\")\n",
        "\n",
        "  print(answers_dict)\n",
        "\n",
        "  plot_mbti_results(answers_dict)\n",
        "\n",
        "\n",
        "main_test()"
      ]
    }
  ],
  "metadata": {
    "colab": {
      "provenance": [],
      "include_colab_link": true
    },
    "kernelspec": {
      "display_name": "Python 3",
      "name": "python3"
    },
    "language_info": {
      "name": "python"
    }
  },
  "nbformat": 4,
  "nbformat_minor": 0
}